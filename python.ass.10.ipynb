{
 "cells": [
  {
   "cell_type": "markdown",
   "id": "582fc88a",
   "metadata": {},
   "source": [
    "# 1. How do you distinguish between shutil.copy() and shutil.copytree()?"
   ]
  },
  {
   "cell_type": "raw",
   "id": "9035e3c9",
   "metadata": {},
   "source": [
    "\n",
    "The shutil.copy() and shutil.copytree() functions in the shutil module are used to perform file and directory copying operations in Python. The main difference between them lies in the type of copying they perform:\n",
    "\n",
    "shutil.copy(src, dst):\n",
    "\n",
    "This function is used to copy a single file from the source (src) to the destination (dst).\n",
    "The src argument specifies the path to the source file that needs to be copied.\n",
    "The dst argument specifies the destination path where the file should be copied.\n",
    "If the dst path points to an existing file, it will be overwritten by the copied file.\n",
    "The copy() function copies only the individual file and does not copy any directories.\n",
    "shutil.copytree(src, dst):\n",
    "\n",
    "This function is used to recursively copy an entire directory tree from the source (src) to the destination (dst).\n",
    "The src argument specifies the path to the source directory that needs to be copied.\n",
    "The dst argument specifies the destination path where the directory tree should be copied.\n",
    "If the dst path already exists, the copytree() function will raise an error.\n",
    "The copytree() function copies not only the directory and its contents but also any subdirectories and their contents.\n",
    "In summary, shutil.copy() is used for copying individual files, while shutil.copytree() is used for copying entire directory trees recursively."
   ]
  },
  {
   "cell_type": "markdown",
   "id": "3b1b55cb",
   "metadata": {},
   "source": [
    "# 2. What function is used to rename files??"
   ]
  },
  {
   "cell_type": "code",
   "execution_count": null,
   "id": "d5cd72cc",
   "metadata": {},
   "outputs": [],
   "source": [
    "The shutil.move() function in the shutil module can be used to rename files in Python. Although the primary purpose of the shutil.move() function is to move files or directories from one location to another, it can also be used to rename files by specifying a new destination path with the desired file name.\n",
    "\n",
    "Here is an example of how to use shutil.move() to rename a file:\n",
    "import shutil\n",
    "\n",
    "# Specify the current file path and name\n",
    "current_path = '/path/to/current/file.txt'\n",
    "\n",
    "# Specify the new file path and name\n",
    "new_path = '/path/to/new/file.txt'\n",
    "\n",
    "# Rename the file\n",
    "shutil.move(current_path, new_path)\n",
    "\n",
    "In the above example, the shutil.move() function is used to rename the file located at current_path to the new name and location specified by new_path. After the function call, the file will be renamed accordingly.\n"
   ]
  },
  {
   "cell_type": "markdown",
   "id": "d686817c",
   "metadata": {},
   "source": [
    "# 3. What is the difference between the delete functions in the send2trash and shutil modules?"
   ]
  },
  {
   "cell_type": "code",
   "execution_count": null,
   "id": "fc1e5c51",
   "metadata": {},
   "outputs": [],
   "source": [
    "The send2trash and shutil modules provide different functions for deleting files or directories in Python:\n",
    "\n",
    "The send2trash module provides a function called send2trash() that moves files or directories to the trash or recycle bin, depending on the operating system. This function offers a safer alternative to permanently deleting files, as it allows the user to recover them from the trash or recycle bin if needed. The send2trash() function sends the specified file or directory to the trash, freeing up disk space without permanently deleting the data.\n",
    "\n",
    "Here's an example of how to use send2trash() to delete a file:\n",
    "\n",
    "from send2trash import send2trash\n",
    "\n",
    "file_path = '/path/to/file.txt'\n",
    "send2trash(file_path)\n",
    "\n",
    "The shutil module provides a function called shutil.rmtree() that is used to delete a directory and all its contents recursively. This function permanently deletes the specified directory and its subdirectories without moving them to the trash. It's important to note that shutil.rmtree() does not support deleting individual files; it is designed to delete entire directories.\n",
    "\n",
    "Here's an example of how to use shutil.rmtree() to delete a directory:\n",
    "import shutil\n",
    "\n",
    "directory_path = '/path/to/directory'\n",
    "shutil.rmtree(directory_path)\n",
    "\n",
    "In summary, the send2trash() function from the send2trash module moves files or directories to the trash or recycle bin, providing a safe way to delete them, while the shutil.rmtree() function from the shutil module permanently deletes directories and their contents without moving them to the trash.\n"
   ]
  },
  {
   "cell_type": "markdown",
   "id": "b468b1bc",
   "metadata": {},
   "source": [
    "# 4.ZipFile objects have a close() method just like File objects’ close() method. What ZipFile method is equivalent to File objects’ open() method?"
   ]
  },
  {
   "cell_type": "code",
   "execution_count": null,
   "id": "e4e0cee5",
   "metadata": {},
   "outputs": [],
   "source": [
    "The equivalent method in ZipFile objects to File objects' open() method is the ZipFile() constructor.\n",
    "\n",
    "The ZipFile() constructor is used to create a ZipFile object that represents a ZIP archive. It takes a file path or file-like object as a parameter and opens the ZIP archive for reading or writing.\n",
    "\n",
    "Here's an example of how to use the ZipFile() constructor to open a ZIP archive:\n",
    "\n",
    "import zipfile\n",
    "\n",
    "zip_path = 'archive.zip'\n",
    "zip_obj = zipfile.ZipFile(zip_path, 'r')\n",
    "\n",
    "\n",
    "The equivalent method in ZipFile objects to File objects' open() method is the ZipFile() constructor.\n",
    "\n",
    "The ZipFile() constructor is used to create a ZipFile object that represents a ZIP archive. It takes a file path or file-like object as a parameter and opens the ZIP archive for reading or writing.\n",
    "\n",
    "Here's an example of how to use the ZipFile() constructor to open a ZIP archive:\n",
    "\n",
    "python\n",
    "Copy code\n",
    "import zipfile\n",
    "\n",
    "zip_path = 'archive.zip'\n",
    "zip_obj = zipfile.ZipFile(zip_path, 'r')\n",
    "In this example, zip_path is the path to the ZIP archive file, and 'r' specifies that the ZIP archive should be opened for reading.\n",
    "\n",
    "Once the ZipFile object is created, you can use its various methods to interact with the files and directories within the ZIP archive, such as extracting files, adding files, or getting information about the contents.\n",
    "\n",
    "Remember to call the close() method on the ZipFile object when you are done working with the ZIP archive to release any system resources associated with it:\n",
    "    zip_obj.close()\n"
   ]
  },
  {
   "cell_type": "markdown",
   "id": "adebd44b",
   "metadata": {},
   "source": [
    "# 5. Create a programme that searches a folder tree for files with a certain file extension (such as .pdf or .jpg). Copy these files from whatever location they are in to a new folder."
   ]
  },
  {
   "cell_type": "code",
   "execution_count": null,
   "id": "d9137421",
   "metadata": {},
   "outputs": [],
   "source": [
    "import os\n",
    "import shutil\n",
    "\n",
    "def search_and_copy_files(source_folder, target_folder, file_extension):\n",
    "    for foldername, subfolders, filenames in os.walk(source_folder):\n",
    "        for filename in filenames:\n",
    "            if filename.endswith(file_extension):\n",
    "                source_file = os.path.join(foldername, filename)\n",
    "                target_file = os.path.join(target_folder, filename)\n",
    "                shutil.copy2(source_file, target_file)\n",
    "                print(f\"Copied file: {source_file} -> {target_file}\")\n",
    "\n",
    "# Example usage\n",
    "source_folder = 'path/to/source/folder'\n",
    "target_folder = 'path/to/target/folder'\n",
    "file_extension = '.pdf'  # Specify the file extension you want to search for\n",
    "\n",
    "search_and_copy_files(source_folder, target_folder, file_extension)\n",
    "\n",
    "\n",
    "In this example, you need to specify the source_folder which is the root folder from where the search begins, the target_folder where the matching files will be copied to, and the file_extension you want to search for (e.g., '.pdf', '.jpg', etc.).\n",
    "\n",
    "The program uses the os.walk() function to traverse the folder tree recursively and obtain the folder names, subfolder names, and filenames within each folder. It then checks if each filename ends with the specified file_extension using the endswith() method.\n",
    "\n",
    "If a file with the desired extension is found, shutil.copy2() is used to copy the file from its source location to the target folder. The copy2() function preserves the original file's metadata, such as timestamps. The source and target file paths are constructed using os.path.join().\n",
    "\n",
    "You can run this program with the appropriate values for source_folder, target_folder, and file_extension to search for files with the given extension and copy them to the target folder.\n"
   ]
  }
 ],
 "metadata": {
  "kernelspec": {
   "display_name": "Python 3 (ipykernel)",
   "language": "python",
   "name": "python3"
  },
  "language_info": {
   "codemirror_mode": {
    "name": "ipython",
    "version": 3
   },
   "file_extension": ".py",
   "mimetype": "text/x-python",
   "name": "python",
   "nbconvert_exporter": "python",
   "pygments_lexer": "ipython3",
   "version": "3.9.12"
  }
 },
 "nbformat": 4,
 "nbformat_minor": 5
}
